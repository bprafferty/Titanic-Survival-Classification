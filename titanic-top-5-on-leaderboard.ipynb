{
 "cells": [
  {
   "cell_type": "markdown",
   "metadata": {
    "papermill": {
     "duration": 0.02618,
     "end_time": "2020-11-04T17:17:15.918365",
     "exception": false,
     "start_time": "2020-11-04T17:17:15.892185",
     "status": "completed"
    },
    "tags": []
   },
   "source": [
    "# Titanic: Top 5% on Leaderboard\n",
    "\n",
    "**By: Brian Rafferty**\n",
    "\n",
    "Welcome to my \"Titanic: Machine Learning from Disaster\" Jupyter Notebook! This notebook will highlight how I tackled the problem, and can act as a general blueprint to undertake most Data Science projects."
   ]
  },
  {
   "cell_type": "code",
   "execution_count": 1,
   "metadata": {
    "_cell_guid": "b1076dfc-b9ad-4769-8c92-a6c4dae69d19",
    "_uuid": "8f2839f25d086af736a60e9eeb907d3b93b6e0e5",
    "execution": {
     "iopub.execute_input": "2020-11-04T17:17:15.974350Z",
     "iopub.status.busy": "2020-11-04T17:17:15.973571Z",
     "iopub.status.idle": "2020-11-04T17:17:17.069023Z",
     "shell.execute_reply": "2020-11-04T17:17:17.068401Z"
    },
    "papermill": {
     "duration": 1.126503,
     "end_time": "2020-11-04T17:17:17.069169",
     "exception": false,
     "start_time": "2020-11-04T17:17:15.942666",
     "status": "completed"
    },
    "tags": []
   },
   "outputs": [],
   "source": [
    "#data analysis and wrangling\n",
    "import pandas as pd\n",
    "import numpy as np\n",
    "\n",
    "#visualization\n",
    "import seaborn as sns\n",
    "import matplotlib.pyplot as plt\n",
    "\n",
    "#machine learning\n",
    "from sklearn.model_selection import GridSearchCV\n",
    "from sklearn.model_selection import train_test_split\n",
    "from sklearn.linear_model import LogisticRegression\n",
    "from sklearn.svm import SVC, LinearSVC\n",
    "from sklearn.ensemble import RandomForestClassifier\n",
    "from sklearn.neighbors import KNeighborsClassifier\n",
    "from sklearn.naive_bayes import GaussianNB\n",
    "from sklearn.linear_model import Perceptron\n",
    "from sklearn.linear_model import SGDClassifier\n",
    "from sklearn.tree import DecisionTreeClassifier"
   ]
  },
  {
   "cell_type": "code",
   "execution_count": 2,
   "metadata": {
    "_cell_guid": "79c7e3d0-c299-4dcb-8224-4455121ee9b0",
    "_uuid": "d629ff2d2480ee46fbb7e2d37f6b5fab8052498a",
    "execution": {
     "iopub.execute_input": "2020-11-04T17:17:17.124571Z",
     "iopub.status.busy": "2020-11-04T17:17:17.123939Z",
     "iopub.status.idle": "2020-11-04T17:17:17.138911Z",
     "shell.execute_reply": "2020-11-04T17:17:17.138341Z"
    },
    "papermill": {
     "duration": 0.045251,
     "end_time": "2020-11-04T17:17:17.139042",
     "exception": false,
     "start_time": "2020-11-04T17:17:17.093791",
     "status": "completed"
    },
    "tags": []
   },
   "outputs": [],
   "source": [
    "#access data and create pandas dataframes\n",
    "train_df = pd.read_csv('../input/titanic/train.csv')\n",
    "test_df = pd.read_csv('../input/titanic/test.csv')\n",
    "combine = [train_df, test_df]"
   ]
  },
  {
   "cell_type": "code",
   "execution_count": 3,
   "metadata": {
    "execution": {
     "iopub.execute_input": "2020-11-04T17:17:17.204769Z",
     "iopub.status.busy": "2020-11-04T17:17:17.204101Z",
     "iopub.status.idle": "2020-11-04T17:17:17.207035Z",
     "shell.execute_reply": "2020-11-04T17:17:17.207463Z"
    },
    "papermill": {
     "duration": 0.043984,
     "end_time": "2020-11-04T17:17:17.207648",
     "exception": false,
     "start_time": "2020-11-04T17:17:17.163664",
     "status": "completed"
    },
    "tags": []
   },
   "outputs": [
    {
     "name": "stdout",
     "output_type": "stream",
     "text": [
      "   PassengerId  Survived  Pclass  \\\n",
      "0            1         0       3   \n",
      "1            2         1       1   \n",
      "2            3         1       3   \n",
      "3            4         1       1   \n",
      "4            5         0       3   \n",
      "\n",
      "                                                Name     Sex   Age  SibSp  \\\n",
      "0                            Braund, Mr. Owen Harris    male  22.0      1   \n",
      "1  Cumings, Mrs. John Bradley (Florence Briggs Th...  female  38.0      1   \n",
      "2                             Heikkinen, Miss. Laina  female  26.0      0   \n",
      "3       Futrelle, Mrs. Jacques Heath (Lily May Peel)  female  35.0      1   \n",
      "4                           Allen, Mr. William Henry    male  35.0      0   \n",
      "\n",
      "   Parch            Ticket     Fare Cabin Embarked  \n",
      "0      0         A/5 21171   7.2500   NaN        S  \n",
      "1      0          PC 17599  71.2833   C85        C  \n",
      "2      0  STON/O2. 3101282   7.9250   NaN        S  \n",
      "3      0            113803  53.1000  C123        S  \n",
      "4      0            373450   8.0500   NaN        S  \n"
     ]
    }
   ],
   "source": [
    "#see all of the types of data contained (print every column)\n",
    "with pd.option_context('display.max_rows', None, 'display.max_columns', None):\n",
    "    print(train_df.head())"
   ]
  },
  {
   "cell_type": "code",
   "execution_count": 4,
   "metadata": {
    "execution": {
     "iopub.execute_input": "2020-11-04T17:17:17.271413Z",
     "iopub.status.busy": "2020-11-04T17:17:17.270738Z",
     "iopub.status.idle": "2020-11-04T17:17:17.273904Z",
     "shell.execute_reply": "2020-11-04T17:17:17.274489Z"
    },
    "papermill": {
     "duration": 0.04191,
     "end_time": "2020-11-04T17:17:17.274652",
     "exception": false,
     "start_time": "2020-11-04T17:17:17.232742",
     "status": "completed"
    },
    "tags": []
   },
   "outputs": [
    {
     "name": "stdout",
     "output_type": "stream",
     "text": [
      "<class 'pandas.core.frame.DataFrame'>\n",
      "RangeIndex: 891 entries, 0 to 890\n",
      "Data columns (total 12 columns):\n",
      " #   Column       Non-Null Count  Dtype  \n",
      "---  ------       --------------  -----  \n",
      " 0   PassengerId  891 non-null    int64  \n",
      " 1   Survived     891 non-null    int64  \n",
      " 2   Pclass       891 non-null    int64  \n",
      " 3   Name         891 non-null    object \n",
      " 4   Sex          891 non-null    object \n",
      " 5   Age          714 non-null    float64\n",
      " 6   SibSp        891 non-null    int64  \n",
      " 7   Parch        891 non-null    int64  \n",
      " 8   Ticket       891 non-null    object \n",
      " 9   Fare         891 non-null    float64\n",
      " 10  Cabin        204 non-null    object \n",
      " 11  Embarked     889 non-null    object \n",
      "dtypes: float64(2), int64(5), object(5)\n",
      "memory usage: 83.7+ KB\n"
     ]
    }
   ],
   "source": [
    "#print to determine datatypes and see which have nulls\n",
    "train_df.info()"
   ]
  },
  {
   "cell_type": "code",
   "execution_count": 5,
   "metadata": {
    "execution": {
     "iopub.execute_input": "2020-11-04T17:17:17.336488Z",
     "iopub.status.busy": "2020-11-04T17:17:17.335532Z",
     "iopub.status.idle": "2020-11-04T17:17:17.338817Z",
     "shell.execute_reply": "2020-11-04T17:17:17.339601Z"
    },
    "papermill": {
     "duration": 0.039788,
     "end_time": "2020-11-04T17:17:17.339784",
     "exception": false,
     "start_time": "2020-11-04T17:17:17.299996",
     "status": "completed"
    },
    "tags": []
   },
   "outputs": [
    {
     "name": "stdout",
     "output_type": "stream",
     "text": [
      "<class 'pandas.core.frame.DataFrame'>\n",
      "RangeIndex: 418 entries, 0 to 417\n",
      "Data columns (total 11 columns):\n",
      " #   Column       Non-Null Count  Dtype  \n",
      "---  ------       --------------  -----  \n",
      " 0   PassengerId  418 non-null    int64  \n",
      " 1   Pclass       418 non-null    int64  \n",
      " 2   Name         418 non-null    object \n",
      " 3   Sex          418 non-null    object \n",
      " 4   Age          332 non-null    float64\n",
      " 5   SibSp        418 non-null    int64  \n",
      " 6   Parch        418 non-null    int64  \n",
      " 7   Ticket       418 non-null    object \n",
      " 8   Fare         417 non-null    float64\n",
      " 9   Cabin        91 non-null     object \n",
      " 10  Embarked     418 non-null    object \n",
      "dtypes: float64(2), int64(4), object(5)\n",
      "memory usage: 36.0+ KB\n"
     ]
    }
   ],
   "source": [
    "#print to determine datatypes and see which have nulls\n",
    "test_df.info()"
   ]
  },
  {
   "cell_type": "markdown",
   "metadata": {
    "papermill": {
     "duration": 0.025247,
     "end_time": "2020-11-04T17:17:17.392777",
     "exception": false,
     "start_time": "2020-11-04T17:17:17.367530",
     "status": "completed"
    },
    "tags": []
   },
   "source": [
    "# Before moving forward, look at the data and answer these questions:\n",
    "\n",
    "**Which features are categorical?**\n",
    "     - Survived, Sex, and Embarked\n",
    "     - Pclass is ordinal\n",
    "**Which features are numerical?**\n",
    "     - Age and Fare are continuous\n",
    "     - SibSp and Parch are discrete\n",
    "**Which features are mixed data types?**\n",
    "     - Ticket and Cabin\n",
    "**Do any features possibly contain errors? If so, which ones?**\n",
    "     - Yes, Name has ambiguous data listed\n",
    "**Which features are missing values?**\n",
    "     - Cabin, Age, and Embarked"
   ]
  },
  {
   "cell_type": "code",
   "execution_count": 6,
   "metadata": {
    "execution": {
     "iopub.execute_input": "2020-11-04T17:17:17.454499Z",
     "iopub.status.busy": "2020-11-04T17:17:17.453877Z",
     "iopub.status.idle": "2020-11-04T17:17:17.475902Z",
     "shell.execute_reply": "2020-11-04T17:17:17.475357Z"
    },
    "papermill": {
     "duration": 0.057333,
     "end_time": "2020-11-04T17:17:17.476027",
     "exception": false,
     "start_time": "2020-11-04T17:17:17.418694",
     "status": "completed"
    },
    "tags": []
   },
   "outputs": [
    {
     "data": {
      "text/html": [
       "<div>\n",
       "<style scoped>\n",
       "    .dataframe tbody tr th:only-of-type {\n",
       "        vertical-align: middle;\n",
       "    }\n",
       "\n",
       "    .dataframe tbody tr th {\n",
       "        vertical-align: top;\n",
       "    }\n",
       "\n",
       "    .dataframe thead th {\n",
       "        text-align: right;\n",
       "    }\n",
       "</style>\n",
       "<table border=\"1\" class=\"dataframe\">\n",
       "  <thead>\n",
       "    <tr style=\"text-align: right;\">\n",
       "      <th></th>\n",
       "      <th>Age</th>\n",
       "      <th>Fare</th>\n",
       "      <th>SibSp</th>\n",
       "      <th>Parch</th>\n",
       "    </tr>\n",
       "  </thead>\n",
       "  <tbody>\n",
       "    <tr>\n",
       "      <th>count</th>\n",
       "      <td>714.000000</td>\n",
       "      <td>891.000000</td>\n",
       "      <td>891.000000</td>\n",
       "      <td>891.000000</td>\n",
       "    </tr>\n",
       "    <tr>\n",
       "      <th>mean</th>\n",
       "      <td>29.699118</td>\n",
       "      <td>32.204208</td>\n",
       "      <td>0.523008</td>\n",
       "      <td>0.381594</td>\n",
       "    </tr>\n",
       "    <tr>\n",
       "      <th>std</th>\n",
       "      <td>14.526497</td>\n",
       "      <td>49.693429</td>\n",
       "      <td>1.102743</td>\n",
       "      <td>0.806057</td>\n",
       "    </tr>\n",
       "    <tr>\n",
       "      <th>min</th>\n",
       "      <td>0.420000</td>\n",
       "      <td>0.000000</td>\n",
       "      <td>0.000000</td>\n",
       "      <td>0.000000</td>\n",
       "    </tr>\n",
       "    <tr>\n",
       "      <th>25%</th>\n",
       "      <td>20.125000</td>\n",
       "      <td>7.910400</td>\n",
       "      <td>0.000000</td>\n",
       "      <td>0.000000</td>\n",
       "    </tr>\n",
       "    <tr>\n",
       "      <th>50%</th>\n",
       "      <td>28.000000</td>\n",
       "      <td>14.454200</td>\n",
       "      <td>0.000000</td>\n",
       "      <td>0.000000</td>\n",
       "    </tr>\n",
       "    <tr>\n",
       "      <th>75%</th>\n",
       "      <td>38.000000</td>\n",
       "      <td>31.000000</td>\n",
       "      <td>1.000000</td>\n",
       "      <td>0.000000</td>\n",
       "    </tr>\n",
       "    <tr>\n",
       "      <th>max</th>\n",
       "      <td>80.000000</td>\n",
       "      <td>512.329200</td>\n",
       "      <td>8.000000</td>\n",
       "      <td>6.000000</td>\n",
       "    </tr>\n",
       "  </tbody>\n",
       "</table>\n",
       "</div>"
      ],
      "text/plain": [
       "              Age        Fare       SibSp       Parch\n",
       "count  714.000000  891.000000  891.000000  891.000000\n",
       "mean    29.699118   32.204208    0.523008    0.381594\n",
       "std     14.526497   49.693429    1.102743    0.806057\n",
       "min      0.420000    0.000000    0.000000    0.000000\n",
       "25%     20.125000    7.910400    0.000000    0.000000\n",
       "50%     28.000000   14.454200    0.000000    0.000000\n",
       "75%     38.000000   31.000000    1.000000    0.000000\n",
       "max     80.000000  512.329200    8.000000    6.000000"
      ]
     },
     "execution_count": 6,
     "metadata": {},
     "output_type": "execute_result"
    }
   ],
   "source": [
    "#see distribution statistics for numerical values\n",
    "train_df[['Age','Fare','SibSp','Parch']].describe()"
   ]
  },
  {
   "cell_type": "code",
   "execution_count": 7,
   "metadata": {
    "execution": {
     "iopub.execute_input": "2020-11-04T17:17:17.540293Z",
     "iopub.status.busy": "2020-11-04T17:17:17.539579Z",
     "iopub.status.idle": "2020-11-04T17:17:17.574525Z",
     "shell.execute_reply": "2020-11-04T17:17:17.573981Z"
    },
    "papermill": {
     "duration": 0.07229,
     "end_time": "2020-11-04T17:17:17.574665",
     "exception": false,
     "start_time": "2020-11-04T17:17:17.502375",
     "status": "completed"
    },
    "tags": []
   },
   "outputs": [
    {
     "data": {
      "text/html": [
       "<div>\n",
       "<style scoped>\n",
       "    .dataframe tbody tr th:only-of-type {\n",
       "        vertical-align: middle;\n",
       "    }\n",
       "\n",
       "    .dataframe tbody tr th {\n",
       "        vertical-align: top;\n",
       "    }\n",
       "\n",
       "    .dataframe thead th {\n",
       "        text-align: right;\n",
       "    }\n",
       "</style>\n",
       "<table border=\"1\" class=\"dataframe\">\n",
       "  <thead>\n",
       "    <tr style=\"text-align: right;\">\n",
       "      <th></th>\n",
       "      <th>Name</th>\n",
       "      <th>Sex</th>\n",
       "      <th>Ticket</th>\n",
       "      <th>Cabin</th>\n",
       "      <th>Embarked</th>\n",
       "    </tr>\n",
       "  </thead>\n",
       "  <tbody>\n",
       "    <tr>\n",
       "      <th>count</th>\n",
       "      <td>891</td>\n",
       "      <td>891</td>\n",
       "      <td>891</td>\n",
       "      <td>204</td>\n",
       "      <td>889</td>\n",
       "    </tr>\n",
       "    <tr>\n",
       "      <th>unique</th>\n",
       "      <td>891</td>\n",
       "      <td>2</td>\n",
       "      <td>681</td>\n",
       "      <td>147</td>\n",
       "      <td>3</td>\n",
       "    </tr>\n",
       "    <tr>\n",
       "      <th>top</th>\n",
       "      <td>Boulos, Mrs. Joseph (Sultana)</td>\n",
       "      <td>male</td>\n",
       "      <td>1601</td>\n",
       "      <td>G6</td>\n",
       "      <td>S</td>\n",
       "    </tr>\n",
       "    <tr>\n",
       "      <th>freq</th>\n",
       "      <td>1</td>\n",
       "      <td>577</td>\n",
       "      <td>7</td>\n",
       "      <td>4</td>\n",
       "      <td>644</td>\n",
       "    </tr>\n",
       "  </tbody>\n",
       "</table>\n",
       "</div>"
      ],
      "text/plain": [
       "                                 Name   Sex Ticket Cabin Embarked\n",
       "count                             891   891    891   204      889\n",
       "unique                            891     2    681   147        3\n",
       "top     Boulos, Mrs. Joseph (Sultana)  male   1601    G6        S\n",
       "freq                                1   577      7     4      644"
      ]
     },
     "execution_count": 7,
     "metadata": {},
     "output_type": "execute_result"
    }
   ],
   "source": [
    "#see distribution statistics for categorical values\n",
    "train_df.describe(include=['O'])"
   ]
  },
  {
   "cell_type": "code",
   "execution_count": 8,
   "metadata": {
    "execution": {
     "iopub.execute_input": "2020-11-04T17:17:17.638422Z",
     "iopub.status.busy": "2020-11-04T17:17:17.635093Z",
     "iopub.status.idle": "2020-11-04T17:17:17.644919Z",
     "shell.execute_reply": "2020-11-04T17:17:17.644307Z"
    },
    "papermill": {
     "duration": 0.043494,
     "end_time": "2020-11-04T17:17:17.645031",
     "exception": false,
     "start_time": "2020-11-04T17:17:17.601537",
     "status": "completed"
    },
    "tags": []
   },
   "outputs": [
    {
     "name": "stdout",
     "output_type": "stream",
     "text": [
      "   Pclass  Survived\n",
      "0       1  0.629630\n",
      "1       2  0.472826\n",
      "2       3  0.242363\n"
     ]
    }
   ],
   "source": [
    "#analyze the features by pairing them together 'pivoting features'\n",
    "#Note: only do this with categorical, ordinal, or discrete variables\n",
    "\n",
    "#strong correlation between being Pclass: 3 and not surviving\n",
    "print(train_df[['Pclass', 'Survived']].groupby(['Pclass'], as_index=False).mean().sort_values(by='Survived', ascending=False))\n"
   ]
  },
  {
   "cell_type": "code",
   "execution_count": 9,
   "metadata": {
    "execution": {
     "iopub.execute_input": "2020-11-04T17:17:17.707870Z",
     "iopub.status.busy": "2020-11-04T17:17:17.706734Z",
     "iopub.status.idle": "2020-11-04T17:17:17.716732Z",
     "shell.execute_reply": "2020-11-04T17:17:17.715924Z"
    },
    "papermill": {
     "duration": 0.044561,
     "end_time": "2020-11-04T17:17:17.716880",
     "exception": false,
     "start_time": "2020-11-04T17:17:17.672319",
     "status": "completed"
    },
    "tags": []
   },
   "outputs": [
    {
     "name": "stdout",
     "output_type": "stream",
     "text": [
      "      Sex  Survived\n",
      "0  female  0.742038\n",
      "1    male  0.188908\n"
     ]
    }
   ],
   "source": [
    "#strong correlation between being Sex: female and Survived\n",
    "print(train_df[['Sex', 'Survived']].groupby(['Sex'], as_index=False).mean().sort_values(by='Survived', ascending=False))\n"
   ]
  },
  {
   "cell_type": "code",
   "execution_count": 10,
   "metadata": {
    "execution": {
     "iopub.execute_input": "2020-11-04T17:17:17.779765Z",
     "iopub.status.busy": "2020-11-04T17:17:17.779008Z",
     "iopub.status.idle": "2020-11-04T17:17:17.786728Z",
     "shell.execute_reply": "2020-11-04T17:17:17.787220Z"
    },
    "papermill": {
     "duration": 0.042502,
     "end_time": "2020-11-04T17:17:17.787359",
     "exception": false,
     "start_time": "2020-11-04T17:17:17.744857",
     "status": "completed"
    },
    "tags": []
   },
   "outputs": [
    {
     "name": "stdout",
     "output_type": "stream",
     "text": [
      "   SibSp  Survived\n",
      "1      1  0.535885\n",
      "2      2  0.464286\n",
      "0      0  0.345395\n",
      "3      3  0.250000\n",
      "4      4  0.166667\n",
      "5      5  0.000000\n",
      "6      8  0.000000\n"
     ]
    }
   ],
   "source": [
    "#SibSp 5 & 8 have zero correlation with Survived, while other groups do, indicating a\n",
    "#beneficial opportunity to utilize 'feature engineering' (deriving a new feature or set \n",
    "#of features from this one)\n",
    "print(train_df[['SibSp', 'Survived']].groupby(['SibSp'], as_index=False).mean().sort_values(by='Survived', ascending=False))\n"
   ]
  },
  {
   "cell_type": "code",
   "execution_count": 11,
   "metadata": {
    "execution": {
     "iopub.execute_input": "2020-11-04T17:17:17.855046Z",
     "iopub.status.busy": "2020-11-04T17:17:17.854224Z",
     "iopub.status.idle": "2020-11-04T17:17:17.857747Z",
     "shell.execute_reply": "2020-11-04T17:17:17.857142Z"
    },
    "papermill": {
     "duration": 0.042664,
     "end_time": "2020-11-04T17:17:17.857859",
     "exception": false,
     "start_time": "2020-11-04T17:17:17.815195",
     "status": "completed"
    },
    "tags": []
   },
   "outputs": [
    {
     "name": "stdout",
     "output_type": "stream",
     "text": [
      "   Parch  Survived\n",
      "3      3  0.600000\n",
      "1      1  0.550847\n",
      "2      2  0.500000\n",
      "0      0  0.343658\n",
      "5      5  0.200000\n",
      "4      4  0.000000\n",
      "6      6  0.000000\n"
     ]
    }
   ],
   "source": [
    "#same scenario with the feature Parch, will also conduct feature engineering here\n",
    "print(train_df[['Parch', 'Survived']].groupby(['Parch'], as_index=False).mean().sort_values(by='Survived', ascending=False))\n"
   ]
  },
  {
   "cell_type": "code",
   "execution_count": 12,
   "metadata": {
    "execution": {
     "iopub.execute_input": "2020-11-04T17:17:17.920696Z",
     "iopub.status.busy": "2020-11-04T17:17:17.920057Z",
     "iopub.status.idle": "2020-11-04T17:17:18.322509Z",
     "shell.execute_reply": "2020-11-04T17:17:18.321942Z"
    },
    "papermill": {
     "duration": 0.436377,
     "end_time": "2020-11-04T17:17:18.322642",
     "exception": false,
     "start_time": "2020-11-04T17:17:17.886265",
     "status": "completed"
    },
    "tags": []
   },
   "outputs": [
    {
     "data": {
      "text/plain": [
       "<seaborn.axisgrid.FacetGrid at 0x7fc00d543d10>"
      ]
     },
     "execution_count": 12,
     "metadata": {},
     "output_type": "execute_result"
    },
    {
     "data": {
      "image/png": "[encoded data removed]",
      "text/plain": [
       "<Figure size 432x216 with 2 Axes>"
      ]
     },
     "metadata": {
      "needs_background": "light"
     },
     "output_type": "display_data"
    }
   ],
   "source": [
    "#analyze the numerical features now (charts are useful for these)\n",
    "g = sns.FacetGrid(train_df, col='Survived')\n",
    "g.map(plt.hist, 'Age', bins=20)"
   ]
  },
  {
   "cell_type": "code",
   "execution_count": 13,
   "metadata": {
    "execution": {
     "iopub.execute_input": "2020-11-04T17:17:18.481332Z",
     "iopub.status.busy": "2020-11-04T17:17:18.400519Z",
     "iopub.status.idle": "2020-11-04T17:17:20.443835Z",
     "shell.execute_reply": "2020-11-04T17:17:20.443203Z"
    },
    "papermill": {
     "duration": 2.091799,
     "end_time": "2020-11-04T17:17:20.443950",
     "exception": false,
     "start_time": "2020-11-04T17:17:18.352151",
     "status": "completed"
    },
    "tags": []
   },
   "outputs": [
    {
     "data": {
      "text/plain": [
       "<seaborn.axisgrid.FacetGrid at 0x7fbfffc46550>"
      ]
     },
     "execution_count": 13,
     "metadata": {},
     "output_type": "execute_result"
    },
    {
     "data": {
      "image/png": "[encoded data removed]",
      "text/plain": [
       "<Figure size 514.88x475.2 with 6 Axes>"
      ]
     },
     "metadata": {
      "needs_background": "light"
     },
     "output_type": "display_data"
    }
   ],
   "source": [
    "#can plot comparisons between continuous and categorical if the categorical is numeric\n",
    "g = sns.FacetGrid(train_df, col='Survived', row='Pclass', height=2.2, aspect=1.6)\n",
    "g.map(plt.hist, 'Age', alpha=0.5, bins=20)\n",
    "g.add_legend()"
   ]
  },
  {
   "cell_type": "code",
   "execution_count": 14,
   "metadata": {
    "execution": {
     "iopub.execute_input": "2020-11-04T17:17:20.518441Z",
     "iopub.status.busy": "2020-11-04T17:17:20.512765Z",
     "iopub.status.idle": "2020-11-04T17:17:21.606036Z",
     "shell.execute_reply": "2020-11-04T17:17:21.606674Z"
    },
    "papermill": {
     "duration": 1.131758,
     "end_time": "2020-11-04T17:17:21.606831",
     "exception": false,
     "start_time": "2020-11-04T17:17:20.475073",
     "status": "completed"
    },
    "tags": []
   },
   "outputs": [
    {
     "name": "stderr",
     "output_type": "stream",
     "text": [
      "/opt/conda/lib/python3.7/site-packages/seaborn/axisgrid.py:728: UserWarning: Using the pointplot function without specifying `order` is likely to produce an incorrect plot.\n",
      "  warnings.warn(warning)\n",
      "/opt/conda/lib/python3.7/site-packages/seaborn/axisgrid.py:733: UserWarning: Using the pointplot function without specifying `hue_order` is likely to produce an incorrect plot.\n",
      "  warnings.warn(warning)\n"
     ]
    },
    {
     "data": {
      "text/plain": [
       "<seaborn.axisgrid.FacetGrid at 0x7fc001eb34d0>"
      ]
     },
     "execution_count": 14,
     "metadata": {},
     "output_type": "execute_result"
    },
    {
     "data": {
      "image/png": "[encoded data removed]",
      "text/plain": [
       "<Figure size 323.94x475.2 with 3 Axes>"
      ]
     },
     "metadata": {
      "needs_background": "light"
     },
     "output_type": "display_data"
    }
   ],
   "source": [
    "#plot the categorical features that indicated highest correlation, compare based upon where they embarked\n",
    "g = sns.FacetGrid(train_df, row='Embarked', height=2.2, aspect=1.6)\n",
    "g.map(sns.pointplot, 'Pclass', 'Survived', 'Sex', palette='deep')\n",
    "g.add_legend()"
   ]
  },
  {
   "cell_type": "code",
   "execution_count": 15,
   "metadata": {
    "execution": {
     "iopub.execute_input": "2020-11-04T17:17:21.678275Z",
     "iopub.status.busy": "2020-11-04T17:17:21.677644Z",
     "iopub.status.idle": "2020-11-04T17:17:22.647001Z",
     "shell.execute_reply": "2020-11-04T17:17:22.646468Z"
    },
    "papermill": {
     "duration": 1.007841,
     "end_time": "2020-11-04T17:17:22.647131",
     "exception": false,
     "start_time": "2020-11-04T17:17:21.639290",
     "status": "completed"
    },
    "tags": []
   },
   "outputs": [
    {
     "name": "stderr",
     "output_type": "stream",
     "text": [
      "/opt/conda/lib/python3.7/site-packages/seaborn/axisgrid.py:728: UserWarning: Using the barplot function without specifying `order` is likely to produce an incorrect plot.\n",
      "  warnings.warn(warning)\n"
     ]
    },
    {
     "data": {
      "text/plain": [
       "<seaborn.axisgrid.FacetGrid at 0x7fbfffca4e10>"
      ]
     },
     "execution_count": 15,
     "metadata": {},
     "output_type": "execute_result"
    },
    {
     "data": {
      "image/png": "[encoded data removed]",
      "text/plain": [
       "<Figure size 514.88x475.2 with 6 Axes>"
      ]
     },
     "metadata": {
      "needs_background": "light"
     },
     "output_type": "display_data"
    }
   ],
   "source": [
    "#plot the categorical features that indicated highest correlation, compare \n",
    "#based upon where they embarked and their fare price\n",
    "g = sns.FacetGrid(train_df, row='Embarked', col='Survived', height=2.2, aspect=1.6)\n",
    "g.map(sns.barplot, 'Sex', 'Fare', alpha=0.5, ci=None)\n",
    "g.add_legend()"
   ]
  },
  {
   "cell_type": "code",
   "execution_count": 16,
   "metadata": {
    "execution": {
     "iopub.execute_input": "2020-11-04T17:17:22.722980Z",
     "iopub.status.busy": "2020-11-04T17:17:22.721932Z",
     "iopub.status.idle": "2020-11-04T17:17:22.727934Z",
     "shell.execute_reply": "2020-11-04T17:17:22.727386Z"
    },
    "papermill": {
     "duration": 0.047299,
     "end_time": "2020-11-04T17:17:22.728046",
     "exception": false,
     "start_time": "2020-11-04T17:17:22.680747",
     "status": "completed"
    },
    "tags": []
   },
   "outputs": [
    {
     "name": "stdout",
     "output_type": "stream",
     "text": [
      "Before (891, 12) (418, 11) (891, 12) (418, 11)\n",
      "After (891, 10) (418, 9) (891, 10) (418, 9)\n"
     ]
    }
   ],
   "source": [
    "#Wrangle the data\n",
    "\n",
    "#Correcting\n",
    "#start with correcting the data by dropping features that have no use\n",
    "print('Before', train_df.shape, test_df.shape, combine[0].shape, combine[1].shape)\n",
    "\n",
    "train_df = train_df.drop(['Ticket', 'Cabin'], axis=1)\n",
    "test_df = test_df.drop(['Ticket', 'Cabin'], axis=1)\n",
    "combine = [train_df, test_df]\n",
    "\n",
    "print('After', train_df.shape, test_df.shape, combine[0].shape, combine[1].shape)"
   ]
  },
  {
   "cell_type": "code",
   "execution_count": 17,
   "metadata": {
    "execution": {
     "iopub.execute_input": "2020-11-04T17:17:22.808448Z",
     "iopub.status.busy": "2020-11-04T17:17:22.807772Z",
     "iopub.status.idle": "2020-11-04T17:17:22.826271Z",
     "shell.execute_reply": "2020-11-04T17:17:22.825526Z"
    },
    "papermill": {
     "duration": 0.064284,
     "end_time": "2020-11-04T17:17:22.826415",
     "exception": false,
     "start_time": "2020-11-04T17:17:22.762131",
     "status": "completed"
    },
    "tags": []
   },
   "outputs": [
    {
     "name": "stdout",
     "output_type": "stream",
     "text": [
      "Sex       female  male\n",
      "Title                 \n",
      "Capt           0     1\n",
      "Col            0     2\n",
      "Countess       1     0\n",
      "Don            0     1\n",
      "Dr             1     6\n",
      "Jonkheer       0     1\n",
      "Lady           1     0\n",
      "Major          0     2\n",
      "Master         0    40\n",
      "Miss         182     0\n",
      "Mlle           2     0\n",
      "Mme            1     0\n",
      "Mr             0   517\n",
      "Mrs          125     0\n",
      "Ms             1     0\n",
      "Rev            0     6\n",
      "Sir            0     1\n"
     ]
    }
   ],
   "source": [
    "#Creating\n",
    "#create new feature by extracting from existing\n",
    "#pull title out of name feature\n",
    "for dataset in combine:\n",
    "    dataset['Title'] = dataset.Name.str.extract(' ([A-Za-z]+)\\.', expand=False)\n",
    "\n",
    "print(pd.crosstab(train_df['Title'], train_df['Sex']))"
   ]
  },
  {
   "cell_type": "code",
   "execution_count": 18,
   "metadata": {
    "execution": {
     "iopub.execute_input": "2020-11-04T17:17:22.908714Z",
     "iopub.status.busy": "2020-11-04T17:17:22.907787Z",
     "iopub.status.idle": "2020-11-04T17:17:22.910239Z",
     "shell.execute_reply": "2020-11-04T17:17:22.910709Z"
    },
    "papermill": {
     "duration": 0.049153,
     "end_time": "2020-11-04T17:17:22.910857",
     "exception": false,
     "start_time": "2020-11-04T17:17:22.861704",
     "status": "completed"
    },
    "tags": []
   },
   "outputs": [],
   "source": [
    "#wrangle the new Title feature, compress every row with low counts into 1 row\n",
    "#then compress variations into same row (Mlle == Miss, Ms == Miss, Mme == Mrs)\n",
    "for dataset in combine:\n",
    "    dataset['Title'] = dataset['Title'].replace(['Lady', 'Countess', 'Capt', 'Col', 'Don', 'Dr', 'Major', 'Rev', 'Sir', 'Jonkheer', 'Dona'], 'Rare')\n",
    "    \n",
    "    dataset['Title'] = dataset['Title'].replace('Mlle', 'Miss')\n",
    "    dataset['Title'] = dataset['Title'].replace('Ms', 'Miss')\n",
    "    dataset['Title'] = dataset['Title'].replace('Mme', 'Mrs')"
   ]
  },
  {
   "cell_type": "code",
   "execution_count": 19,
   "metadata": {
    "execution": {
     "iopub.execute_input": "2020-11-04T17:17:22.990799Z",
     "iopub.status.busy": "2020-11-04T17:17:22.987761Z",
     "iopub.status.idle": "2020-11-04T17:17:22.995673Z",
     "shell.execute_reply": "2020-11-04T17:17:22.994858Z"
    },
    "papermill": {
     "duration": 0.049815,
     "end_time": "2020-11-04T17:17:22.995819",
     "exception": false,
     "start_time": "2020-11-04T17:17:22.946004",
     "status": "completed"
    },
    "tags": []
   },
   "outputs": [
    {
     "name": "stdout",
     "output_type": "stream",
     "text": [
      "    Title  Survived\n",
      "0  Master  0.575000\n",
      "1    Miss  0.702703\n",
      "2      Mr  0.156673\n",
      "3     Mrs  0.793651\n",
      "4    Rare  0.347826\n"
     ]
    }
   ],
   "source": [
    "#compare the engineered feature Title with Survived to see correlation\n",
    "print(train_df[['Title', 'Survived']].groupby(['Title'], as_index=False).mean())"
   ]
  },
  {
   "cell_type": "code",
   "execution_count": 20,
   "metadata": {
    "execution": {
     "iopub.execute_input": "2020-11-04T17:17:23.079532Z",
     "iopub.status.busy": "2020-11-04T17:17:23.078886Z",
     "iopub.status.idle": "2020-11-04T17:17:23.082675Z",
     "shell.execute_reply": "2020-11-04T17:17:23.081612Z"
    },
    "papermill": {
     "duration": 0.051159,
     "end_time": "2020-11-04T17:17:23.082841",
     "exception": false,
     "start_time": "2020-11-04T17:17:23.031682",
     "status": "completed"
    },
    "tags": []
   },
   "outputs": [
    {
     "name": "stdout",
     "output_type": "stream",
     "text": [
      "                                                Name  Title\n",
      "0                            Braund, Mr. Owen Harris      1\n",
      "1  Cumings, Mrs. John Bradley (Florence Briggs Th...      3\n",
      "2                             Heikkinen, Miss. Laina      2\n",
      "3       Futrelle, Mrs. Jacques Heath (Lily May Peel)      3\n",
      "4                           Allen, Mr. William Henry      1\n"
     ]
    }
   ],
   "source": [
    "#convert the categorical titles to ordinal for future use in the ML model\n",
    "title_mapping = {\"Mr\": 1, \"Miss\": 2, \"Mrs\": 3, \"Master\": 4, \"Rare\": 5}\n",
    "\n",
    "for dataset in combine:\n",
    "    dataset['Title'] = dataset['Title'].map(title_mapping)\n",
    "    dataset['Title'] = dataset['Title'].fillna(0)\n",
    "\n",
    "print(train_df[['Name', 'Title']].head())"
   ]
  },
  {
   "cell_type": "code",
   "execution_count": 21,
   "metadata": {
    "execution": {
     "iopub.execute_input": "2020-11-04T17:17:23.161369Z",
     "iopub.status.busy": "2020-11-04T17:17:23.160247Z",
     "iopub.status.idle": "2020-11-04T17:17:23.164363Z",
     "shell.execute_reply": "2020-11-04T17:17:23.163873Z"
    },
    "papermill": {
     "duration": 0.046232,
     "end_time": "2020-11-04T17:17:23.164472",
     "exception": false,
     "start_time": "2020-11-04T17:17:23.118240",
     "status": "completed"
    },
    "tags": []
   },
   "outputs": [],
   "source": [
    "#now drop Name and PassengerId feature, since they are no \n",
    "#longer needed in the training set\n",
    "train_df = train_df.drop(['Name', 'PassengerId'], axis=1)\n",
    "test_df = test_df.drop(['Name'], axis=1)\n",
    "combine = [train_df, test_df]"
   ]
  },
  {
   "cell_type": "code",
   "execution_count": 22,
   "metadata": {
    "execution": {
     "iopub.execute_input": "2020-11-04T17:17:23.247081Z",
     "iopub.status.busy": "2020-11-04T17:17:23.246414Z",
     "iopub.status.idle": "2020-11-04T17:17:23.250172Z",
     "shell.execute_reply": "2020-11-04T17:17:23.250764Z"
    },
    "papermill": {
     "duration": 0.050758,
     "end_time": "2020-11-04T17:17:23.250923",
     "exception": false,
     "start_time": "2020-11-04T17:17:23.200165",
     "status": "completed"
    },
    "tags": []
   },
   "outputs": [
    {
     "name": "stdout",
     "output_type": "stream",
     "text": [
      "   Title  Sex\n",
      "0      1    0\n",
      "1      3    1\n",
      "2      2    1\n",
      "3      3    1\n",
      "4      1    0\n"
     ]
    }
   ],
   "source": [
    "#convert the categorical feature Sex to numerical values \n",
    "#for future use in the ML model\n",
    "sex_mapping = {'male': 0, 'female': 1}\n",
    "\n",
    "for dataset in combine:\n",
    "    dataset['Sex'] = dataset['Sex'].map(sex_mapping)\n",
    "\n",
    "print(train_df[['Title', 'Sex']].head())"
   ]
  },
  {
   "cell_type": "code",
   "execution_count": 23,
   "metadata": {
    "execution": {
     "iopub.execute_input": "2020-11-04T17:17:23.337411Z",
     "iopub.status.busy": "2020-11-04T17:17:23.336735Z",
     "iopub.status.idle": "2020-11-04T17:17:25.330983Z",
     "shell.execute_reply": "2020-11-04T17:17:25.330397Z"
    },
    "papermill": {
     "duration": 2.044051,
     "end_time": "2020-11-04T17:17:25.331101",
     "exception": false,
     "start_time": "2020-11-04T17:17:23.287050",
     "status": "completed"
    },
    "tags": []
   },
   "outputs": [
    {
     "data": {
      "text/plain": [
       "<seaborn.axisgrid.FacetGrid at 0x7fbfff3bb150>"
      ]
     },
     "execution_count": 23,
     "metadata": {},
     "output_type": "execute_result"
    },
    {
     "data": {
      "image/png": "[encoded data removed]",
      "text/plain": [
       "<Figure size 514.88x475.2 with 6 Axes>"
      ]
     },
     "metadata": {
      "needs_background": "light"
     },
     "output_type": "display_data"
    }
   ],
   "source": [
    "#Completing\n",
    "#now is time to complete a numerical continuous feature with \n",
    "#missing or null values\n",
    "#start with Age\n",
    "#guess ages by using the median values across Pclass and gender (Age \n",
    "#for Pclass=1 and Gender=0, Pclass=1 and Gender=1, ...)\n",
    "grid = sns.FacetGrid(train_df, row='Pclass', col='Sex', height=2.2, aspect=1.6)\n",
    "grid.map(plt.hist, 'Age', alpha=0.5, bins=20)\n",
    "grid.add_legend()"
   ]
  },
  {
   "cell_type": "code",
   "execution_count": 24,
   "metadata": {
    "execution": {
     "iopub.execute_input": "2020-11-04T17:17:25.453172Z",
     "iopub.status.busy": "2020-11-04T17:17:25.415019Z",
     "iopub.status.idle": "2020-11-04T17:17:25.457969Z",
     "shell.execute_reply": "2020-11-04T17:17:25.458576Z"
    },
    "papermill": {
     "duration": 0.090527,
     "end_time": "2020-11-04T17:17:25.458785",
     "exception": false,
     "start_time": "2020-11-04T17:17:25.368258",
     "status": "completed"
    },
    "tags": []
   },
   "outputs": [
    {
     "name": "stdout",
     "output_type": "stream",
     "text": [
      "   Survived  Pclass  Sex  Age  SibSp  Parch     Fare Embarked  Title\n",
      "0         0       3    0   22      1      0   7.2500        S      1\n",
      "1         1       1    1   38      1      0  71.2833        C      3\n",
      "2         1       3    1   26      0      0   7.9250        S      2\n",
      "3         1       1    1   35      1      0  53.1000        S      3\n",
      "4         0       3    0   35      0      0   8.0500        S      1\n"
     ]
    }
   ],
   "source": [
    "#start with an empty array to contain the guessed ages\n",
    "guess_ages = np.zeros((2,3))\n",
    "\n",
    "#now iterate over Sex (0,1) and Pclass(1,2,3) to calc the guessed ages\n",
    "for dataset in combine:\n",
    "    for i in range(2):\n",
    "        for j in range(3):\n",
    "            guess_df = dataset[(dataset['Sex'] == i) & (dataset['Pclass'] == j+1)]['Age'].dropna()\n",
    "            \n",
    "            age_guess = guess_df.median()\n",
    "            \n",
    "            #convert random age float to nearest .5 age\n",
    "            guess_ages[i,j] = int(age_guess/0.5 + 0.5) * 0.5\n",
    "            \n",
    "\n",
    "    for i in range(2):\n",
    "        for j in range(3):\n",
    "            dataset.loc[(dataset.Age.isnull()) & (dataset.Sex == i) & (dataset.Pclass == j+1), 'Age'] = guess_ages[i,j]\n",
    "            \n",
    "    dataset['Age'] = dataset['Age'].astype(int)\n",
    "\n",
    "print(train_df.head())"
   ]
  },
  {
   "cell_type": "code",
   "execution_count": 25,
   "metadata": {
    "execution": {
     "iopub.execute_input": "2020-11-04T17:17:25.555632Z",
     "iopub.status.busy": "2020-11-04T17:17:25.553810Z",
     "iopub.status.idle": "2020-11-04T17:17:25.565567Z",
     "shell.execute_reply": "2020-11-04T17:17:25.565039Z"
    },
    "papermill": {
     "duration": 0.063424,
     "end_time": "2020-11-04T17:17:25.565727",
     "exception": false,
     "start_time": "2020-11-04T17:17:25.502303",
     "status": "completed"
    },
    "tags": []
   },
   "outputs": [
    {
     "name": "stdout",
     "output_type": "stream",
     "text": [
      "            AgeBand  Survived\n",
      "0   (-0.08, 11.429]  0.573529\n",
      "1  (11.429, 22.857]  0.409756\n",
      "2  (22.857, 34.286]  0.314448\n",
      "3  (34.286, 45.714]  0.426829\n",
      "4  (45.714, 57.143]  0.411765\n",
      "5  (57.143, 68.571]  0.346154\n",
      "6    (68.571, 80.0]  0.142857\n"
     ]
    }
   ],
   "source": [
    "#create Age bands and determine correlations with Survived\n",
    "train_df['AgeBand'] = pd.cut(train_df['Age'], 7)\n",
    "print(train_df[['AgeBand', 'Survived']].groupby(['AgeBand'], as_index=False).mean().sort_values(by='AgeBand', ascending=True))\n"
   ]
  },
  {
   "cell_type": "code",
   "execution_count": 26,
   "metadata": {
    "execution": {
     "iopub.execute_input": "2020-11-04T17:17:25.654226Z",
     "iopub.status.busy": "2020-11-04T17:17:25.653525Z",
     "iopub.status.idle": "2020-11-04T17:17:25.673141Z",
     "shell.execute_reply": "2020-11-04T17:17:25.672244Z"
    },
    "papermill": {
     "duration": 0.069485,
     "end_time": "2020-11-04T17:17:25.673307",
     "exception": false,
     "start_time": "2020-11-04T17:17:25.603822",
     "status": "completed"
    },
    "tags": []
   },
   "outputs": [
    {
     "name": "stdout",
     "output_type": "stream",
     "text": [
      "   Age           AgeBand\n",
      "0    1  (11.429, 22.857]\n",
      "1    3  (34.286, 45.714]\n",
      "2    2  (22.857, 34.286]\n",
      "3    3  (34.286, 45.714]\n",
      "4    3  (34.286, 45.714]\n"
     ]
    }
   ],
   "source": [
    "#replace Age with ordinal values based upon these bands\n",
    "for dataset in combine:\n",
    "    dataset.loc[dataset['Age'] <= 11.429, 'Age'] = 0\n",
    "    dataset.loc[(dataset['Age'] > 11.429) & (dataset['Age'] <= 22.857), 'Age'] = 1\n",
    "    dataset.loc[(dataset['Age'] > 22.857) & (dataset['Age'] <= 34.286), 'Age'] = 2\n",
    "    dataset.loc[(dataset['Age'] > 34.286) & (dataset['Age'] <= 45.714), 'Age'] = 3\n",
    "    dataset.loc[(dataset['Age'] > 45.714) & (dataset['Age'] <= 57.143), 'Age'] = 4\n",
    "    dataset.loc[(dataset['Age'] > 57.143) & (dataset['Age'] <= 68.571), 'Age'] = 5\n",
    "    dataset.loc[dataset['Age'] > 68.571, 'Age'] = 6\n",
    "    dataset['Age'] = dataset['Age'].astype(int)\n",
    "\n",
    "\n",
    "print(train_df[['Age', 'AgeBand']].head())\n"
   ]
  },
  {
   "cell_type": "code",
   "execution_count": 27,
   "metadata": {
    "execution": {
     "iopub.execute_input": "2020-11-04T17:17:25.761415Z",
     "iopub.status.busy": "2020-11-04T17:17:25.760682Z",
     "iopub.status.idle": "2020-11-04T17:17:25.763533Z",
     "shell.execute_reply": "2020-11-04T17:17:25.764051Z"
    },
    "papermill": {
     "duration": 0.051493,
     "end_time": "2020-11-04T17:17:25.764190",
     "exception": false,
     "start_time": "2020-11-04T17:17:25.712697",
     "status": "completed"
    },
    "tags": []
   },
   "outputs": [
    {
     "name": "stdout",
     "output_type": "stream",
     "text": [
      "   Survived  Pclass  Sex  Age  SibSp  Parch     Fare Embarked  Title\n",
      "0         0       3    0    1      1      0   7.2500        S      1\n",
      "1         1       1    1    3      1      0  71.2833        C      3\n",
      "2         1       3    1    2      0      0   7.9250        S      2\n",
      "3         1       1    1    3      1      0  53.1000        S      3\n",
      "4         0       3    0    3      0      0   8.0500        S      1\n"
     ]
    }
   ],
   "source": [
    "#now drop AgeBand, now that ages are placed in correct bands\n",
    "train_df = train_df.drop(['AgeBand'], axis=1)\n",
    "combine = [train_df, test_df]\n",
    "\n",
    "print(train_df.head())"
   ]
  },
  {
   "cell_type": "code",
   "execution_count": 28,
   "metadata": {
    "execution": {
     "iopub.execute_input": "2020-11-04T17:17:25.852965Z",
     "iopub.status.busy": "2020-11-04T17:17:25.852311Z",
     "iopub.status.idle": "2020-11-04T17:17:25.861416Z",
     "shell.execute_reply": "2020-11-04T17:17:25.860721Z"
    },
    "papermill": {
     "duration": 0.059006,
     "end_time": "2020-11-04T17:17:25.861549",
     "exception": false,
     "start_time": "2020-11-04T17:17:25.802543",
     "status": "completed"
    },
    "tags": []
   },
   "outputs": [
    {
     "name": "stdout",
     "output_type": "stream",
     "text": [
      "   FamilySize  Survived\n",
      "3           4  0.724138\n",
      "2           3  0.578431\n",
      "1           2  0.552795\n",
      "6           7  0.333333\n",
      "0           1  0.303538\n",
      "4           5  0.200000\n",
      "5           6  0.136364\n",
      "7           8  0.000000\n",
      "8          11  0.000000\n"
     ]
    }
   ],
   "source": [
    "#Creating\n",
    "#create new feature called FamilySize which combines Parch and \n",
    "#SibSp, this will allow us to drop 2 columns and replace it with 1\n",
    "for dataset in combine:\n",
    "    dataset['FamilySize'] = dataset['SibSp'] + dataset['Parch'] + 1\n",
    "\n",
    "#No correlation between FamilySize 8 & 11 and Survived, must engineer new feature\n",
    "print(train_df[['FamilySize', 'Survived']].groupby(['FamilySize'], as_index=False).mean().sort_values(by='Survived', ascending=False))"
   ]
  },
  {
   "cell_type": "code",
   "execution_count": 29,
   "metadata": {
    "execution": {
     "iopub.execute_input": "2020-11-04T17:17:25.956681Z",
     "iopub.status.busy": "2020-11-04T17:17:25.954440Z",
     "iopub.status.idle": "2020-11-04T17:17:25.960652Z",
     "shell.execute_reply": "2020-11-04T17:17:25.960068Z"
    },
    "papermill": {
     "duration": 0.059601,
     "end_time": "2020-11-04T17:17:25.960776",
     "exception": false,
     "start_time": "2020-11-04T17:17:25.901175",
     "status": "completed"
    },
    "tags": []
   },
   "outputs": [
    {
     "name": "stdout",
     "output_type": "stream",
     "text": [
      "   IsAlone  Survived\n",
      "0        0  0.505650\n",
      "1        1  0.303538\n"
     ]
    }
   ],
   "source": [
    "#Make a new feature called IsAlone to eliminate values of zero\n",
    "for dataset in combine:\n",
    "    dataset['IsAlone'] = 0\n",
    "    #change value to 1 if family size is 1 person\n",
    "    dataset.loc[dataset['FamilySize'] == 1, 'IsAlone'] = 1\n",
    "\n",
    "#Notice correlation between not being alone and surviving\n",
    "print(train_df[['IsAlone', 'Survived']].groupby(['IsAlone'], as_index=False).mean())"
   ]
  },
  {
   "cell_type": "code",
   "execution_count": 30,
   "metadata": {
    "execution": {
     "iopub.execute_input": "2020-11-04T17:17:26.051021Z",
     "iopub.status.busy": "2020-11-04T17:17:26.050033Z",
     "iopub.status.idle": "2020-11-04T17:17:26.054349Z",
     "shell.execute_reply": "2020-11-04T17:17:26.054809Z"
    },
    "papermill": {
     "duration": 0.054725,
     "end_time": "2020-11-04T17:17:26.054957",
     "exception": false,
     "start_time": "2020-11-04T17:17:26.000232",
     "status": "completed"
    },
    "tags": []
   },
   "outputs": [
    {
     "name": "stdout",
     "output_type": "stream",
     "text": [
      "   Survived  Pclass  Sex  Age     Fare Embarked  Title  IsAlone\n",
      "0         0       3    0    1   7.2500        S      1        0\n",
      "1         1       1    1    3  71.2833        C      3        0\n",
      "2         1       3    1    2   7.9250        S      2        1\n",
      "3         1       1    1    3  53.1000        S      3        0\n",
      "4         0       3    0    3   8.0500        S      1        1\n"
     ]
    }
   ],
   "source": [
    "#drop Parch, SibSp, and FamilySize and keep IsAlone\n",
    "train_df = train_df.drop(['Parch', 'SibSp', 'FamilySize'], axis=1)\n",
    "test_df = test_df.drop(['Parch', 'SibSp', 'FamilySize'], axis=1)\n",
    "combine = [train_df, test_df]\n",
    "\n",
    "print(train_df.head())"
   ]
  },
  {
   "cell_type": "code",
   "execution_count": 31,
   "metadata": {
    "execution": {
     "iopub.execute_input": "2020-11-04T17:17:26.143572Z",
     "iopub.status.busy": "2020-11-04T17:17:26.142946Z",
     "iopub.status.idle": "2020-11-04T17:17:26.152986Z",
     "shell.execute_reply": "2020-11-04T17:17:26.153703Z"
    },
    "papermill": {
     "duration": 0.058785,
     "end_time": "2020-11-04T17:17:26.153889",
     "exception": false,
     "start_time": "2020-11-04T17:17:26.095104",
     "status": "completed"
    },
    "tags": []
   },
   "outputs": [
    {
     "name": "stdout",
     "output_type": "stream",
     "text": [
      "    Age*Class  Survived\n",
      "0           0  0.573529\n",
      "1           1  0.800000\n",
      "2           2  0.647059\n",
      "3           3  0.432773\n",
      "4           4  0.465116\n",
      "5           5  0.388889\n",
      "6           6  0.217391\n",
      "7           8  0.333333\n",
      "8           9  0.115385\n",
      "9          10  0.250000\n",
      "10         12  0.000000\n",
      "11         15  0.250000\n",
      "12         18  0.000000\n"
     ]
    }
   ],
   "source": [
    "#create artificial feature combining Pclass and Age\n",
    "for dataset in combine:\n",
    "   dataset['Age*Class'] = dataset.Age * dataset.Pclass\n",
    "\n",
    "print(train_df[['Age*Class', 'Survived']].groupby(['Age*Class'], as_index=False).mean())"
   ]
  },
  {
   "cell_type": "code",
   "execution_count": 32,
   "metadata": {
    "execution": {
     "iopub.execute_input": "2020-11-04T17:17:26.246128Z",
     "iopub.status.busy": "2020-11-04T17:17:26.242978Z",
     "iopub.status.idle": "2020-11-04T17:17:26.253620Z",
     "shell.execute_reply": "2020-11-04T17:17:26.254100Z"
    },
    "papermill": {
     "duration": 0.059146,
     "end_time": "2020-11-04T17:17:26.254286",
     "exception": false,
     "start_time": "2020-11-04T17:17:26.195140",
     "status": "completed"
    },
    "tags": []
   },
   "outputs": [
    {
     "name": "stdout",
     "output_type": "stream",
     "text": [
      "   Title*Class  Survived\n",
      "0            1  0.345794\n",
      "1            2  0.388489\n",
      "2            3  0.215470\n",
      "3            4  0.947368\n",
      "4            5  0.533333\n",
      "5            6  0.615385\n",
      "6            8  1.000000\n",
      "7            9  0.500000\n",
      "8           10  0.000000\n",
      "9           12  0.392857\n"
     ]
    }
   ],
   "source": [
    "#create artificial feature combining Title and Class\n",
    "for dataset in combine:\n",
    "   dataset['Title*Class'] = dataset.Title * dataset.Pclass\n",
    "    \n",
    "print(train_df[['Title*Class', 'Survived']].groupby(['Title*Class'], as_index=False).mean())"
   ]
  },
  {
   "cell_type": "code",
   "execution_count": 33,
   "metadata": {
    "execution": {
     "iopub.execute_input": "2020-11-04T17:17:26.353065Z",
     "iopub.status.busy": "2020-11-04T17:17:26.352131Z",
     "iopub.status.idle": "2020-11-04T17:17:26.358540Z",
     "shell.execute_reply": "2020-11-04T17:17:26.358075Z"
    },
    "papermill": {
     "duration": 0.062639,
     "end_time": "2020-11-04T17:17:26.358710",
     "exception": false,
     "start_time": "2020-11-04T17:17:26.296071",
     "status": "completed"
    },
    "tags": []
   },
   "outputs": [
    {
     "name": "stdout",
     "output_type": "stream",
     "text": [
      "  Embarked  Survived\n",
      "0        C  0.553571\n",
      "1        Q  0.389610\n",
      "2        S  0.339009\n"
     ]
    }
   ],
   "source": [
    "#Completing\n",
    "#complete the embarked feature by find the mode, and \n",
    "#filling that value in all the null spots\n",
    "freq_port = train_df.Embarked.dropna().mode()[0]\n",
    "\n",
    "for dataset in combine:\n",
    "    dataset['Embarked'] = dataset['Embarked'].fillna(freq_port)\n",
    "\n",
    "#Correlation between Embarked: C and Survived\n",
    "print(train_df[['Embarked', 'Survived']].groupby(['Embarked'], as_index=False).mean().sort_values(by='Survived', ascending=False))"
   ]
  },
  {
   "cell_type": "code",
   "execution_count": 34,
   "metadata": {
    "execution": {
     "iopub.execute_input": "2020-11-04T17:17:26.453891Z",
     "iopub.status.busy": "2020-11-04T17:17:26.453104Z",
     "iopub.status.idle": "2020-11-04T17:17:26.458641Z",
     "shell.execute_reply": "2020-11-04T17:17:26.457889Z"
    },
    "papermill": {
     "duration": 0.057994,
     "end_time": "2020-11-04T17:17:26.458808",
     "exception": false,
     "start_time": "2020-11-04T17:17:26.400814",
     "status": "completed"
    },
    "tags": []
   },
   "outputs": [
    {
     "name": "stdout",
     "output_type": "stream",
     "text": [
      "   Survived  Pclass  Sex  Age     Fare  Embarked  Title  IsAlone  Age*Class  \\\n",
      "0         0       3    0    1   7.2500         0      1        0          3   \n",
      "1         1       1    1    3  71.2833         1      3        0          3   \n",
      "2         1       3    1    2   7.9250         0      2        1          6   \n",
      "3         1       1    1    3  53.1000         0      3        0          3   \n",
      "4         0       3    0    3   8.0500         0      1        1          9   \n",
      "\n",
      "   Title*Class  \n",
      "0            3  \n",
      "1            3  \n",
      "2            6  \n",
      "3            3  \n",
      "4            3  \n"
     ]
    }
   ],
   "source": [
    "#map Embarked to numeric values for the ML model\n",
    "port_mapping = {'S': 0, 'C': 1, 'Q': 2}\n",
    "\n",
    "for dataset in combine:\n",
    "    dataset['Embarked'] = dataset['Embarked'].map(port_mapping)\n",
    "\n",
    "print(train_df.head())"
   ]
  },
  {
   "cell_type": "code",
   "execution_count": 35,
   "metadata": {
    "execution": {
     "iopub.execute_input": "2020-11-04T17:17:26.558268Z",
     "iopub.status.busy": "2020-11-04T17:17:26.553943Z",
     "iopub.status.idle": "2020-11-04T17:17:26.560684Z",
     "shell.execute_reply": "2020-11-04T17:17:26.561130Z"
    },
    "papermill": {
     "duration": 0.059789,
     "end_time": "2020-11-04T17:17:26.561274",
     "exception": false,
     "start_time": "2020-11-04T17:17:26.501485",
     "status": "completed"
    },
    "tags": []
   },
   "outputs": [],
   "source": [
    "#Completing\n",
    "#fill the missing fare values by finding the mode and \n",
    "#replacing the nulls with it\n",
    "freq_fare = train_df.Fare.dropna().mode()[0]\n",
    "\n",
    "for dataset in combine:\n",
    "    dataset['Fare'] = dataset['Fare'].fillna(freq_fare)"
   ]
  },
  {
   "cell_type": "code",
   "execution_count": 36,
   "metadata": {
    "execution": {
     "iopub.execute_input": "2020-11-04T17:17:26.651713Z",
     "iopub.status.busy": "2020-11-04T17:17:26.651054Z",
     "iopub.status.idle": "2020-11-04T17:17:26.665271Z",
     "shell.execute_reply": "2020-11-04T17:17:26.665823Z"
    },
    "papermill": {
     "duration": 0.062593,
     "end_time": "2020-11-04T17:17:26.665977",
     "exception": false,
     "start_time": "2020-11-04T17:17:26.603384",
     "status": "completed"
    },
    "tags": []
   },
   "outputs": [
    {
     "name": "stdout",
     "output_type": "stream",
     "text": [
      "          FareBand  Survived\n",
      "0   (-0.001, 7.91]  0.197309\n",
      "1   (7.91, 14.454]  0.303571\n",
      "2   (14.454, 31.0]  0.454955\n",
      "3  (31.0, 512.329]  0.581081\n"
     ]
    }
   ],
   "source": [
    "#create new feature called FareBand, just like AgeBand before\n",
    "train_df['FareBand'] = pd.qcut(train_df['Fare'], 4)\n",
    "print(train_df[['FareBand', 'Survived']].groupby(['FareBand'], as_index=False).mean().sort_values(by='FareBand', ascending=True))"
   ]
  },
  {
   "cell_type": "code",
   "execution_count": 37,
   "metadata": {
    "execution": {
     "iopub.execute_input": "2020-11-04T17:17:26.770267Z",
     "iopub.status.busy": "2020-11-04T17:17:26.769288Z",
     "iopub.status.idle": "2020-11-04T17:17:26.779311Z",
     "shell.execute_reply": "2020-11-04T17:17:26.779769Z"
    },
    "papermill": {
     "duration": 0.070988,
     "end_time": "2020-11-04T17:17:26.779916",
     "exception": false,
     "start_time": "2020-11-04T17:17:26.708928",
     "status": "completed"
    },
    "tags": []
   },
   "outputs": [
    {
     "name": "stdout",
     "output_type": "stream",
     "text": [
      "   Survived  Pclass  Sex  Age  Fare  Embarked  Title  IsAlone  Age*Class  \\\n",
      "0         0       3    0    1     0         0      1        0          3   \n",
      "1         1       1    1    3     3         1      3        0          3   \n",
      "2         1       3    1    2     1         0      2        1          6   \n",
      "3         1       1    1    3     3         0      3        0          3   \n",
      "4         0       3    0    3     1         0      1        1          9   \n",
      "\n",
      "   Title*Class  \n",
      "0            3  \n",
      "1            3  \n",
      "2            6  \n",
      "3            3  \n",
      "4            3  \n"
     ]
    }
   ],
   "source": [
    "#convert Fare into ordinal values based upon results\n",
    "for dataset in combine:\n",
    "    dataset.loc[dataset['Fare'] <= 7.91, 'Fare'] = 0\n",
    "    dataset.loc[(dataset['Fare'] > 7.91) & (dataset['Fare'] <= 14.454), 'Fare'] = 1\n",
    "    dataset.loc[(dataset['Fare'] > 14.454) & (dataset['Fare'] <= 31.0), 'Fare'] = 2\n",
    "    dataset.loc[dataset['Fare'] > 31.0, 'Fare'] = 3\n",
    "    dataset['Fare'] = dataset['Fare'].astype(int)\n",
    "\n",
    "#remove FareBand feature\n",
    "train_df = train_df.drop(['FareBand'], axis=1)\n",
    "combine = [train_df, test_df]\n",
    "\n",
    "print(train_df.head())"
   ]
  },
  {
   "cell_type": "code",
   "execution_count": 38,
   "metadata": {
    "execution": {
     "iopub.execute_input": "2020-11-04T17:17:26.873164Z",
     "iopub.status.busy": "2020-11-04T17:17:26.872461Z",
     "iopub.status.idle": "2020-11-04T17:17:26.877395Z",
     "shell.execute_reply": "2020-11-04T17:17:26.876476Z"
    },
    "papermill": {
     "duration": 0.054697,
     "end_time": "2020-11-04T17:17:26.877558",
     "exception": false,
     "start_time": "2020-11-04T17:17:26.822861",
     "status": "completed"
    },
    "tags": []
   },
   "outputs": [
    {
     "name": "stdout",
     "output_type": "stream",
     "text": [
      "   PassengerId  Pclass  Sex  Age  Fare  Embarked  Title  IsAlone  Age*Class  \\\n",
      "0          892       3    0    2     0         2      1        1          6   \n",
      "1          893       3    1    4     0         0      3        0         12   \n",
      "2          894       2    0    5     1         2      1        1         10   \n",
      "3          895       3    0    2     1         0      1        1          6   \n",
      "4          896       3    1    1     1         0      3        0          3   \n",
      "\n",
      "   Title*Class  \n",
      "0            3  \n",
      "1            9  \n",
      "2            2  \n",
      "3            3  \n",
      "4            9  \n"
     ]
    }
   ],
   "source": [
    "#check test values too, make sure everything is set \n",
    "print(test_df.head())"
   ]
  },
  {
   "cell_type": "code",
   "execution_count": 39,
   "metadata": {
    "execution": {
     "iopub.execute_input": "2020-11-04T17:17:26.974829Z",
     "iopub.status.busy": "2020-11-04T17:17:26.973898Z",
     "iopub.status.idle": "2020-11-04T17:17:26.976721Z",
     "shell.execute_reply": "2020-11-04T17:17:26.977165Z"
    },
    "papermill": {
     "duration": 0.056058,
     "end_time": "2020-11-04T17:17:26.977317",
     "exception": false,
     "start_time": "2020-11-04T17:17:26.921259",
     "status": "completed"
    },
    "tags": []
   },
   "outputs": [],
   "source": [
    "#Modeling\n",
    "#time to train a model and predict a solution\n",
    "X = train_df.drop('Survived', axis=1)\n",
    "y = train_df['Survived']\n",
    "X_train, X_validation, Y_train, Y_validation = train_test_split(X, y, test_size=0.5, random_state=1)\n",
    "X_test = test_df.drop('PassengerId', axis=1).copy()"
   ]
  },
  {
   "cell_type": "code",
   "execution_count": 40,
   "metadata": {
    "execution": {
     "iopub.execute_input": "2020-11-04T17:17:27.077362Z",
     "iopub.status.busy": "2020-11-04T17:17:27.076684Z",
     "iopub.status.idle": "2020-11-04T17:17:27.408856Z",
     "shell.execute_reply": "2020-11-04T17:17:27.408298Z"
    },
    "papermill": {
     "duration": 0.387876,
     "end_time": "2020-11-04T17:17:27.408979",
     "exception": false,
     "start_time": "2020-11-04T17:17:27.021103",
     "status": "completed"
    },
    "tags": []
   },
   "outputs": [
    {
     "name": "stdout",
     "output_type": "stream",
     "text": [
      "Accuracy of LR on training set: 0.8224719101123595\n",
      "Accuracy of LR on testing set: 0.7757847533632287\n",
      "Accuracy of SVM on training set: 0.8674157303370786\n",
      "Accuracy of SVM on testing set: 0.7959641255605381\n",
      "Accuracy of KNN on training set: 0.8561797752808988\n",
      "Accuracy of KNN on testing set: 0.7668161434977578\n",
      "Accuracy of NB on training set: 0.7932584269662921\n",
      "Accuracy of NB on testing set: 0.7713004484304933\n",
      "Accuracy of CART on training set: 0.8966292134831461\n",
      "Accuracy of CART on testing set: 0.7713004484304933\n",
      "Accuracy of PERC on training set: 0.8247191011235955\n",
      "Accuracy of PERC on testing set: 0.7847533632286996\n",
      "Accuracy of LSVC on training set: 0.8134831460674158\n",
      "Accuracy of LSVC on testing set: 0.773542600896861\n",
      "Accuracy of SGD on training set: 0.7662921348314606\n",
      "Accuracy of SGD on testing set: 0.7309417040358744\n"
     ]
    },
    {
     "name": "stderr",
     "output_type": "stream",
     "text": [
      "/opt/conda/lib/python3.7/site-packages/sklearn/svm/_base.py:977: ConvergenceWarning: Liblinear failed to converge, increase the number of iterations.\n",
      "  \"the number of iterations.\", ConvergenceWarning)\n"
     ]
    },
    {
     "name": "stdout",
     "output_type": "stream",
     "text": [
      "Accuracy of RF on training set: 0.8966292134831461\n",
      "Accuracy of RF on testing set: 0.7780269058295964\n"
     ]
    }
   ],
   "source": [
    "#Model Selection\n",
    "#this is a linear problem, can we figure out a \n",
    "#function f(x) = y that predicts survivability?\n",
    "#spot check Linear ML algorithms to determine the \n",
    "#most accurate one\n",
    "#notice they are all close, but SVM is highest\n",
    "models = []\n",
    "models.append(('LR', LogisticRegression(solver='liblinear', multi_class='ovr')))\n",
    "models.append(('SVM', SVC(gamma='auto')))\n",
    "models.append(('KNN', KNeighborsClassifier()))\n",
    "models.append(('NB', GaussianNB()))\n",
    "models.append(('CART', DecisionTreeClassifier()))\n",
    "models.append(('PERC', Perceptron()))\n",
    "models.append(('LSVC', LinearSVC()))\n",
    "models.append(('SGD', SGDClassifier()))\n",
    "models.append(('RF', RandomForestClassifier()))\n",
    "\n",
    "for name, model in models:\n",
    "    model.fit(X_train, Y_train)\n",
    "    score = model.score(X_train, Y_train)\n",
    "    print('Accuracy of {} on training set: {}'.format(name, score))\n",
    "\n",
    "    testScore = model.score(X_validation, Y_validation)\n",
    "    print('Accuracy of {} on testing set: {}'.format(name, testScore))"
   ]
  },
  {
   "cell_type": "code",
   "execution_count": 41,
   "metadata": {
    "execution": {
     "iopub.execute_input": "2020-11-04T17:17:27.506319Z",
     "iopub.status.busy": "2020-11-04T17:17:27.505617Z",
     "iopub.status.idle": "2020-11-04T17:17:29.063490Z",
     "shell.execute_reply": "2020-11-04T17:17:29.062646Z"
    },
    "papermill": {
     "duration": 1.610339,
     "end_time": "2020-11-04T17:17:29.063676",
     "exception": false,
     "start_time": "2020-11-04T17:17:27.453337",
     "status": "completed"
    },
    "tags": []
   },
   "outputs": [
    {
     "name": "stdout",
     "output_type": "stream",
     "text": [
      "Fitting 5 folds for each of 25 candidates, totalling 125 fits\n",
      "[CV] C=0.1, gamma=1, kernel=rbf ......................................\n",
      "[CV] .......... C=0.1, gamma=1, kernel=rbf, score=0.640, total=   0.0s\n",
      "[CV] C=0.1, gamma=1, kernel=rbf ......................................\n",
      "[CV] .......... C=0.1, gamma=1, kernel=rbf, score=0.652, total=   0.0s\n",
      "[CV] C=0.1, gamma=1, kernel=rbf ......................................\n",
      "[CV] .......... C=0.1, gamma=1, kernel=rbf, score=0.652, total=   0.0s\n",
      "[CV] C=0.1, gamma=1, kernel=rbf ......................................\n",
      "[CV] .......... C=0.1, gamma=1, kernel=rbf, score=0.652, total=   0.0s\n",
      "[CV] C=0.1, gamma=1, kernel=rbf ......................................\n",
      "[CV] .......... C=0.1, gamma=1, kernel=rbf, score=0.652, total=   0.0s\n",
      "[CV] C=0.1, gamma=0.1, kernel=rbf ....................................\n",
      "[CV] ........ C=0.1, gamma=0.1, kernel=rbf, score=0.820, total=   0.0s\n",
      "[CV] C=0.1, gamma=0.1, kernel=rbf ....................................\n",
      "[CV] ........ C=0.1, gamma=0.1, kernel=rbf, score=0.854, total=   0.0s\n",
      "[CV] C=0.1, gamma=0.1, kernel=rbf ....................................\n",
      "[CV] ........ C=0.1, gamma=0.1, kernel=rbf, score=0.775, total=   0.0s\n",
      "[CV] C=0.1, gamma=0.1, kernel=rbf ....................................\n",
      "[CV] ........ C=0.1, gamma=0.1, kernel=rbf, score=0.787, total=   0.0s\n",
      "[CV] C=0.1, gamma=0.1, kernel=rbf ....................................\n",
      "[CV] ........ C=0.1, gamma=0.1, kernel=rbf, score=0.742, total=   0.0s\n",
      "[CV] C=0.1, gamma=0.01, kernel=rbf ...................................\n",
      "[CV] ....... C=0.1, gamma=0.01, kernel=rbf, score=0.640, total=   0.0s\n",
      "[CV] C=0.1, gamma=0.01, kernel=rbf ...................................\n",
      "[CV] ....... C=0.1, gamma=0.01, kernel=rbf, score=0.663, total=   0.0s\n",
      "[CV] C=0.1, gamma=0.01, kernel=rbf ...................................\n",
      "[CV] ....... C=0.1, gamma=0.01, kernel=rbf, score=0.629, total=   0.0s\n",
      "[CV] C=0.1, gamma=0.01, kernel=rbf ...................................\n",
      "[CV] ....... C=0.1, gamma=0.01, kernel=rbf, score=0.640, total=   0.0s\n",
      "[CV] C=0.1, gamma=0.01, kernel=rbf ...................................\n",
      "[CV] ....... C=0.1, gamma=0.01, kernel=rbf, score=0.652, total=   0.0s\n",
      "[CV] C=0.1, gamma=0.001, kernel=rbf ..................................\n",
      "[CV] ...... C=0.1, gamma=0.001, kernel=rbf, score=0.640, total=   0.0s\n",
      "[CV] C=0.1, gamma=0.001, kernel=rbf ..................................\n",
      "[CV] ...... C=0.1, gamma=0.001, kernel=rbf, score=0.640, total=   0.0s\n",
      "[CV] C=0.1, gamma=0.001, kernel=rbf ..................................\n"
     ]
    },
    {
     "name": "stderr",
     "output_type": "stream",
     "text": [
      "[Parallel(n_jobs=1)]: Using backend SequentialBackend with 1 concurrent workers.\n",
      "[Parallel(n_jobs=1)]: Done   1 out of   1 | elapsed:    0.0s remaining:    0.0s\n",
      "[Parallel(n_jobs=1)]: Done   2 out of   2 | elapsed:    0.0s remaining:    0.0s\n"
     ]
    },
    {
     "name": "stdout",
     "output_type": "stream",
     "text": [
      "[CV] ...... C=0.1, gamma=0.001, kernel=rbf, score=0.640, total=   0.0s\n",
      "[CV] C=0.1, gamma=0.001, kernel=rbf ..................................\n",
      "[CV] ...... C=0.1, gamma=0.001, kernel=rbf, score=0.640, total=   0.0s\n",
      "[CV] C=0.1, gamma=0.001, kernel=rbf ..................................\n",
      "[CV] ...... C=0.1, gamma=0.001, kernel=rbf, score=0.652, total=   0.0s\n",
      "[CV] C=0.1, gamma=0.0001, kernel=rbf .................................\n",
      "[CV] ..... C=0.1, gamma=0.0001, kernel=rbf, score=0.640, total=   0.0s\n",
      "[CV] C=0.1, gamma=0.0001, kernel=rbf .................................\n",
      "[CV] ..... C=0.1, gamma=0.0001, kernel=rbf, score=0.640, total=   0.0s\n",
      "[CV] C=0.1, gamma=0.0001, kernel=rbf .................................\n",
      "[CV] ..... C=0.1, gamma=0.0001, kernel=rbf, score=0.640, total=   0.0s\n",
      "[CV] C=0.1, gamma=0.0001, kernel=rbf .................................\n",
      "[CV] ..... C=0.1, gamma=0.0001, kernel=rbf, score=0.640, total=   0.0s\n",
      "[CV] C=0.1, gamma=0.0001, kernel=rbf .................................\n",
      "[CV] ..... C=0.1, gamma=0.0001, kernel=rbf, score=0.652, total=   0.0s\n",
      "[CV] C=1, gamma=1, kernel=rbf ........................................\n",
      "[CV] ............ C=1, gamma=1, kernel=rbf, score=0.854, total=   0.0s\n",
      "[CV] C=1, gamma=1, kernel=rbf ........................................\n",
      "[CV] ............ C=1, gamma=1, kernel=rbf, score=0.764, total=   0.0s\n",
      "[CV] C=1, gamma=1, kernel=rbf ........................................\n",
      "[CV] ............ C=1, gamma=1, kernel=rbf, score=0.764, total=   0.0s\n",
      "[CV] C=1, gamma=1, kernel=rbf ........................................\n",
      "[CV] ............ C=1, gamma=1, kernel=rbf, score=0.843, total=   0.0s\n",
      "[CV] C=1, gamma=1, kernel=rbf ........................................\n",
      "[CV] ............ C=1, gamma=1, kernel=rbf, score=0.775, total=   0.0s\n",
      "[CV] C=1, gamma=0.1, kernel=rbf ......................................\n",
      "[CV] .......... C=1, gamma=0.1, kernel=rbf, score=0.843, total=   0.0s\n",
      "[CV] C=1, gamma=0.1, kernel=rbf ......................................\n",
      "[CV] .......... C=1, gamma=0.1, kernel=rbf, score=0.876, total=   0.0s\n",
      "[CV] C=1, gamma=0.1, kernel=rbf ......................................\n",
      "[CV] .......... C=1, gamma=0.1, kernel=rbf, score=0.831, total=   0.0s\n",
      "[CV] C=1, gamma=0.1, kernel=rbf ......................................\n",
      "[CV] .......... C=1, gamma=0.1, kernel=rbf, score=0.843, total=   0.0s\n",
      "[CV] C=1, gamma=0.1, kernel=rbf ......................................\n",
      "[CV] .......... C=1, gamma=0.1, kernel=rbf, score=0.775, total=   0.0s\n",
      "[CV] C=1, gamma=0.01, kernel=rbf .....................................\n",
      "[CV] ......... C=1, gamma=0.01, kernel=rbf, score=0.831, total=   0.0s\n",
      "[CV] C=1, gamma=0.01, kernel=rbf .....................................\n",
      "[CV] ......... C=1, gamma=0.01, kernel=rbf, score=0.876, total=   0.0s\n",
      "[CV] C=1, gamma=0.01, kernel=rbf .....................................\n",
      "[CV] ......... C=1, gamma=0.01, kernel=rbf, score=0.798, total=   0.0s\n",
      "[CV] C=1, gamma=0.01, kernel=rbf .....................................\n",
      "[CV] ......... C=1, gamma=0.01, kernel=rbf, score=0.843, total=   0.0s\n",
      "[CV] C=1, gamma=0.01, kernel=rbf .....................................\n",
      "[CV] ......... C=1, gamma=0.01, kernel=rbf, score=0.775, total=   0.0s\n",
      "[CV] C=1, gamma=0.001, kernel=rbf ....................................\n",
      "[CV] ........ C=1, gamma=0.001, kernel=rbf, score=0.640, total=   0.0s\n",
      "[CV] C=1, gamma=0.001, kernel=rbf ....................................\n",
      "[CV] ........ C=1, gamma=0.001, kernel=rbf, score=0.629, total=   0.0s\n",
      "[CV] C=1, gamma=0.001, kernel=rbf ....................................\n",
      "[CV] ........ C=1, gamma=0.001, kernel=rbf, score=0.618, total=   0.0s\n",
      "[CV] C=1, gamma=0.001, kernel=rbf ....................................\n",
      "[CV] ........ C=1, gamma=0.001, kernel=rbf, score=0.640, total=   0.0s\n",
      "[CV] C=1, gamma=0.001, kernel=rbf ....................................\n",
      "[CV] ........ C=1, gamma=0.001, kernel=rbf, score=0.652, total=   0.0s\n",
      "[CV] C=1, gamma=0.0001, kernel=rbf ...................................\n",
      "[CV] ....... C=1, gamma=0.0001, kernel=rbf, score=0.640, total=   0.0s\n",
      "[CV] C=1, gamma=0.0001, kernel=rbf ...................................\n",
      "[CV] ....... C=1, gamma=0.0001, kernel=rbf, score=0.640, total=   0.0s\n",
      "[CV] C=1, gamma=0.0001, kernel=rbf ...................................\n",
      "[CV] ....... C=1, gamma=0.0001, kernel=rbf, score=0.640, total=   0.0s\n",
      "[CV] C=1, gamma=0.0001, kernel=rbf ...................................\n",
      "[CV] ....... C=1, gamma=0.0001, kernel=rbf, score=0.640, total=   0.0s\n",
      "[CV] C=1, gamma=0.0001, kernel=rbf ...................................\n",
      "[CV] ....... C=1, gamma=0.0001, kernel=rbf, score=0.652, total=   0.0s\n",
      "[CV] C=10, gamma=1, kernel=rbf .......................................\n",
      "[CV] ........... C=10, gamma=1, kernel=rbf, score=0.843, total=   0.0s\n",
      "[CV] C=10, gamma=1, kernel=rbf .......................................\n",
      "[CV] ........... C=10, gamma=1, kernel=rbf, score=0.798, total=   0.0s\n",
      "[CV] C=10, gamma=1, kernel=rbf .......................................\n",
      "[CV] ........... C=10, gamma=1, kernel=rbf, score=0.775, total=   0.0s\n",
      "[CV] C=10, gamma=1, kernel=rbf .......................................\n",
      "[CV] ........... C=10, gamma=1, kernel=rbf, score=0.843, total=   0.0s\n",
      "[CV] C=10, gamma=1, kernel=rbf .......................................\n",
      "[CV] ........... C=10, gamma=1, kernel=rbf, score=0.764, total=   0.0s\n",
      "[CV] C=10, gamma=0.1, kernel=rbf .....................................\n",
      "[CV] ......... C=10, gamma=0.1, kernel=rbf, score=0.854, total=   0.0s\n",
      "[CV] C=10, gamma=0.1, kernel=rbf .....................................\n",
      "[CV] ......... C=10, gamma=0.1, kernel=rbf, score=0.831, total=   0.0s\n",
      "[CV] C=10, gamma=0.1, kernel=rbf .....................................\n",
      "[CV] ......... C=10, gamma=0.1, kernel=rbf, score=0.854, total=   0.0s\n",
      "[CV] C=10, gamma=0.1, kernel=rbf .....................................\n",
      "[CV] ......... C=10, gamma=0.1, kernel=rbf, score=0.854, total=   0.0s\n",
      "[CV] C=10, gamma=0.1, kernel=rbf .....................................\n",
      "[CV] ......... C=10, gamma=0.1, kernel=rbf, score=0.775, total=   0.0s\n",
      "[CV] C=10, gamma=0.01, kernel=rbf ....................................\n",
      "[CV] ........ C=10, gamma=0.01, kernel=rbf, score=0.820, total=   0.0s\n",
      "[CV] C=10, gamma=0.01, kernel=rbf ....................................\n",
      "[CV] ........ C=10, gamma=0.01, kernel=rbf, score=0.876, total=   0.0s\n",
      "[CV] C=10, gamma=0.01, kernel=rbf ....................................\n",
      "[CV] ........ C=10, gamma=0.01, kernel=rbf, score=0.820, total=   0.0s\n",
      "[CV] C=10, gamma=0.01, kernel=rbf ....................................\n",
      "[CV] ........ C=10, gamma=0.01, kernel=rbf, score=0.854, total=   0.0s\n",
      "[CV] C=10, gamma=0.01, kernel=rbf ....................................\n",
      "[CV] ........ C=10, gamma=0.01, kernel=rbf, score=0.742, total=   0.0s\n",
      "[CV] C=10, gamma=0.001, kernel=rbf ...................................\n",
      "[CV] ....... C=10, gamma=0.001, kernel=rbf, score=0.831, total=   0.0s\n",
      "[CV] C=10, gamma=0.001, kernel=rbf ...................................\n",
      "[CV] ....... C=10, gamma=0.001, kernel=rbf, score=0.798, total=   0.0s\n",
      "[CV] C=10, gamma=0.001, kernel=rbf ...................................\n",
      "[CV] ....... C=10, gamma=0.001, kernel=rbf, score=0.775, total=   0.0s\n",
      "[CV] C=10, gamma=0.001, kernel=rbf ...................................\n",
      "[CV] ....... C=10, gamma=0.001, kernel=rbf, score=0.820, total=   0.0s\n",
      "[CV] C=10, gamma=0.001, kernel=rbf ...................................\n",
      "[CV] ....... C=10, gamma=0.001, kernel=rbf, score=0.775, total=   0.0s\n",
      "[CV] C=10, gamma=0.0001, kernel=rbf ..................................\n",
      "[CV] ...... C=10, gamma=0.0001, kernel=rbf, score=0.640, total=   0.0s\n",
      "[CV] C=10, gamma=0.0001, kernel=rbf ..................................\n",
      "[CV] ...... C=10, gamma=0.0001, kernel=rbf, score=0.640, total=   0.0s\n",
      "[CV] C=10, gamma=0.0001, kernel=rbf ..................................\n",
      "[CV] ...... C=10, gamma=0.0001, kernel=rbf, score=0.596, total=   0.0s\n",
      "[CV] C=10, gamma=0.0001, kernel=rbf ..................................\n",
      "[CV] ...... C=10, gamma=0.0001, kernel=rbf, score=0.618, total=   0.0s\n",
      "[CV] C=10, gamma=0.0001, kernel=rbf ..................................\n",
      "[CV] ...... C=10, gamma=0.0001, kernel=rbf, score=0.652, total=   0.0s\n",
      "[CV] C=100, gamma=1, kernel=rbf ......................................\n",
      "[CV] .......... C=100, gamma=1, kernel=rbf, score=0.843, total=   0.0s\n",
      "[CV] C=100, gamma=1, kernel=rbf ......................................\n",
      "[CV] .......... C=100, gamma=1, kernel=rbf, score=0.798, total=   0.0s\n",
      "[CV] C=100, gamma=1, kernel=rbf ......................................\n",
      "[CV] .......... C=100, gamma=1, kernel=rbf, score=0.775, total=   0.0s\n",
      "[CV] C=100, gamma=1, kernel=rbf ......................................\n",
      "[CV] .......... C=100, gamma=1, kernel=rbf, score=0.843, total=   0.0s\n",
      "[CV] C=100, gamma=1, kernel=rbf ......................................\n",
      "[CV] .......... C=100, gamma=1, kernel=rbf, score=0.764, total=   0.0s\n",
      "[CV] C=100, gamma=0.1, kernel=rbf ....................................\n",
      "[CV] ........ C=100, gamma=0.1, kernel=rbf, score=0.831, total=   0.0s\n",
      "[CV] C=100, gamma=0.1, kernel=rbf ....................................\n",
      "[CV] ........ C=100, gamma=0.1, kernel=rbf, score=0.787, total=   0.0s\n",
      "[CV] C=100, gamma=0.1, kernel=rbf ....................................\n",
      "[CV] ........ C=100, gamma=0.1, kernel=rbf, score=0.854, total=   0.0s\n",
      "[CV] C=100, gamma=0.1, kernel=rbf ....................................\n",
      "[CV] ........ C=100, gamma=0.1, kernel=rbf, score=0.843, total=   0.0s\n",
      "[CV] C=100, gamma=0.1, kernel=rbf ....................................\n",
      "[CV] ........ C=100, gamma=0.1, kernel=rbf, score=0.753, total=   0.0s\n",
      "[CV] C=100, gamma=0.01, kernel=rbf ...................................\n",
      "[CV] ....... C=100, gamma=0.01, kernel=rbf, score=0.854, total=   0.0s\n",
      "[CV] C=100, gamma=0.01, kernel=rbf ...................................\n",
      "[CV] ....... C=100, gamma=0.01, kernel=rbf, score=0.876, total=   0.0s\n",
      "[CV] C=100, gamma=0.01, kernel=rbf ...................................\n",
      "[CV] ....... C=100, gamma=0.01, kernel=rbf, score=0.831, total=   0.0s\n",
      "[CV] C=100, gamma=0.01, kernel=rbf ...................................\n",
      "[CV] ....... C=100, gamma=0.01, kernel=rbf, score=0.831, total=   0.0s\n",
      "[CV] C=100, gamma=0.01, kernel=rbf ...................................\n",
      "[CV] ....... C=100, gamma=0.01, kernel=rbf, score=0.787, total=   0.0s\n",
      "[CV] C=100, gamma=0.001, kernel=rbf ..................................\n",
      "[CV] ...... C=100, gamma=0.001, kernel=rbf, score=0.831, total=   0.0s\n",
      "[CV] C=100, gamma=0.001, kernel=rbf ..................................\n",
      "[CV] ...... C=100, gamma=0.001, kernel=rbf, score=0.876, total=   0.0s\n",
      "[CV] C=100, gamma=0.001, kernel=rbf ..................................\n",
      "[CV] ...... C=100, gamma=0.001, kernel=rbf, score=0.809, total=   0.0s\n",
      "[CV] C=100, gamma=0.001, kernel=rbf ..................................\n",
      "[CV] ...... C=100, gamma=0.001, kernel=rbf, score=0.854, total=   0.0s\n",
      "[CV] C=100, gamma=0.001, kernel=rbf ..................................\n",
      "[CV] ...... C=100, gamma=0.001, kernel=rbf, score=0.753, total=   0.0s\n",
      "[CV] C=100, gamma=0.0001, kernel=rbf .................................\n",
      "[CV] ..... C=100, gamma=0.0001, kernel=rbf, score=0.820, total=   0.0s\n",
      "[CV] C=100, gamma=0.0001, kernel=rbf .................................\n",
      "[CV] ..... C=100, gamma=0.0001, kernel=rbf, score=0.798, total=   0.0s\n",
      "[CV] C=100, gamma=0.0001, kernel=rbf .................................\n",
      "[CV] ..... C=100, gamma=0.0001, kernel=rbf, score=0.775, total=   0.0s\n",
      "[CV] C=100, gamma=0.0001, kernel=rbf .................................\n",
      "[CV] ..... C=100, gamma=0.0001, kernel=rbf, score=0.809, total=   0.0s\n",
      "[CV] C=100, gamma=0.0001, kernel=rbf .................................\n",
      "[CV] ..... C=100, gamma=0.0001, kernel=rbf, score=0.753, total=   0.0s\n",
      "[CV] C=1000, gamma=1, kernel=rbf .....................................\n",
      "[CV] ......... C=1000, gamma=1, kernel=rbf, score=0.843, total=   0.0s\n",
      "[CV] C=1000, gamma=1, kernel=rbf .....................................\n",
      "[CV] ......... C=1000, gamma=1, kernel=rbf, score=0.798, total=   0.0s\n",
      "[CV] C=1000, gamma=1, kernel=rbf .....................................\n",
      "[CV] ......... C=1000, gamma=1, kernel=rbf, score=0.775, total=   0.0s\n",
      "[CV] C=1000, gamma=1, kernel=rbf .....................................\n",
      "[CV] ......... C=1000, gamma=1, kernel=rbf, score=0.843, total=   0.0s\n",
      "[CV] C=1000, gamma=1, kernel=rbf .....................................\n",
      "[CV] ......... C=1000, gamma=1, kernel=rbf, score=0.764, total=   0.0s\n",
      "[CV] C=1000, gamma=0.1, kernel=rbf ...................................\n",
      "[CV] ....... C=1000, gamma=0.1, kernel=rbf, score=0.820, total=   0.0s\n",
      "[CV] C=1000, gamma=0.1, kernel=rbf ...................................\n",
      "[CV] ....... C=1000, gamma=0.1, kernel=rbf, score=0.787, total=   0.0s\n",
      "[CV] C=1000, gamma=0.1, kernel=rbf ...................................\n",
      "[CV] ....... C=1000, gamma=0.1, kernel=rbf, score=0.843, total=   0.0s\n",
      "[CV] C=1000, gamma=0.1, kernel=rbf ...................................\n",
      "[CV] ....... C=1000, gamma=0.1, kernel=rbf, score=0.843, total=   0.0s\n",
      "[CV] C=1000, gamma=0.1, kernel=rbf ...................................\n",
      "[CV] ....... C=1000, gamma=0.1, kernel=rbf, score=0.753, total=   0.0s\n",
      "[CV] C=1000, gamma=0.01, kernel=rbf ..................................\n",
      "[CV] ...... C=1000, gamma=0.01, kernel=rbf, score=0.854, total=   0.0s\n",
      "[CV] C=1000, gamma=0.01, kernel=rbf ..................................\n",
      "[CV] ...... C=1000, gamma=0.01, kernel=rbf, score=0.809, total=   0.0s\n",
      "[CV] C=1000, gamma=0.01, kernel=rbf ..................................\n",
      "[CV] ...... C=1000, gamma=0.01, kernel=rbf, score=0.820, total=   0.0s\n",
      "[CV] C=1000, gamma=0.01, kernel=rbf ..................................\n",
      "[CV] ...... C=1000, gamma=0.01, kernel=rbf, score=0.854, total=   0.0s\n",
      "[CV] C=1000, gamma=0.01, kernel=rbf ..................................\n",
      "[CV] ...... C=1000, gamma=0.01, kernel=rbf, score=0.775, total=   0.0s\n",
      "[CV] C=1000, gamma=0.001, kernel=rbf .................................\n",
      "[CV] ..... C=1000, gamma=0.001, kernel=rbf, score=0.820, total=   0.0s\n",
      "[CV] C=1000, gamma=0.001, kernel=rbf .................................\n",
      "[CV] ..... C=1000, gamma=0.001, kernel=rbf, score=0.876, total=   0.0s\n",
      "[CV] C=1000, gamma=0.001, kernel=rbf .................................\n",
      "[CV] ..... C=1000, gamma=0.001, kernel=rbf, score=0.820, total=   0.0s\n",
      "[CV] C=1000, gamma=0.001, kernel=rbf .................................\n",
      "[CV] ..... C=1000, gamma=0.001, kernel=rbf, score=0.854, total=   0.0s\n",
      "[CV] C=1000, gamma=0.001, kernel=rbf .................................\n",
      "[CV] ..... C=1000, gamma=0.001, kernel=rbf, score=0.742, total=   0.0s\n",
      "[CV] C=1000, gamma=0.0001, kernel=rbf ................................\n",
      "[CV] .... C=1000, gamma=0.0001, kernel=rbf, score=0.798, total=   0.0s\n",
      "[CV] C=1000, gamma=0.0001, kernel=rbf ................................\n",
      "[CV] .... C=1000, gamma=0.0001, kernel=rbf, score=0.854, total=   0.0s\n",
      "[CV] C=1000, gamma=0.0001, kernel=rbf ................................\n",
      "[CV] .... C=1000, gamma=0.0001, kernel=rbf, score=0.809, total=   0.0s\n",
      "[CV] C=1000, gamma=0.0001, kernel=rbf ................................\n",
      "[CV] .... C=1000, gamma=0.0001, kernel=rbf, score=0.831, total=   0.0s\n",
      "[CV] C=1000, gamma=0.0001, kernel=rbf ................................\n",
      "[CV] .... C=1000, gamma=0.0001, kernel=rbf, score=0.764, total=   0.0s\n",
      "{'C': 100, 'gamma': 0.01, 'kernel': 'rbf'}\n"
     ]
    },
    {
     "name": "stderr",
     "output_type": "stream",
     "text": [
      "[Parallel(n_jobs=1)]: Done 125 out of 125 | elapsed:    1.5s finished\n"
     ]
    }
   ],
   "source": [
    "#tune hyperparameters for SVM\n",
    "# defining parameter range \n",
    "param_grid = {'C': [0.1, 1, 10, 100, 1000],  \n",
    "              'gamma': [1, 0.1, 0.01, 0.001, 0.0001], \n",
    "              'kernel': ['rbf']}  \n",
    "  \n",
    "model = GridSearchCV(SVC(), param_grid, refit = True, verbose = 3) \n",
    "  \n",
    "# fitting the model for grid search \n",
    "model.fit(X_train, Y_train)\n",
    "hyperparams = model.best_params_\n",
    "print(hyperparams)"
   ]
  },
  {
   "cell_type": "code",
   "execution_count": 42,
   "metadata": {
    "execution": {
     "iopub.execute_input": "2020-11-04T17:17:29.171793Z",
     "iopub.status.busy": "2020-11-04T17:17:29.171037Z",
     "iopub.status.idle": "2020-11-04T17:17:29.194964Z",
     "shell.execute_reply": "2020-11-04T17:17:29.194357Z"
    },
    "papermill": {
     "duration": 0.081796,
     "end_time": "2020-11-04T17:17:29.195091",
     "exception": false,
     "start_time": "2020-11-04T17:17:29.113295",
     "status": "completed"
    },
    "tags": []
   },
   "outputs": [
    {
     "name": "stdout",
     "output_type": "stream",
     "text": [
      "Train: 0.8674157303370786\n",
      "Validation: 0.7959641255605381\n"
     ]
    }
   ],
   "source": [
    "#best params: {'C': 100, 'gamma': 0.01, kernel': \n",
    "#'rbf'}\n",
    "#Original Train: 0.8674157303370786; Tuned Train: \n",
    "#0.8674157303370786\n",
    "#Original Validation: 0.7959641255605381; \n",
    "#Tuned Validation: 0.7959641255605381\n",
    "#normally tuning hyperparameters will yield \n",
    "#positive results, but in this case\n",
    "#it made no difference\n",
    "tuned_model = SVC(C=100, gamma=0.01, kernel='rbf')\n",
    "tuned_model.fit(X_train, Y_train)\n",
    "train_score = tuned_model.score(X_train, Y_train)\n",
    "test_score = tuned_model.score(X_validation, Y_validation)\n",
    "print(\"Train: {}\\nValidation: {}\".format(train_score, test_score))"
   ]
  },
  {
   "cell_type": "code",
   "execution_count": 43,
   "metadata": {
    "execution": {
     "iopub.execute_input": "2020-11-04T17:17:29.303529Z",
     "iopub.status.busy": "2020-11-04T17:17:29.302887Z",
     "iopub.status.idle": "2020-11-04T17:17:29.556826Z",
     "shell.execute_reply": "2020-11-04T17:17:29.556135Z"
    },
    "papermill": {
     "duration": 0.311528,
     "end_time": "2020-11-04T17:17:29.556948",
     "exception": false,
     "start_time": "2020-11-04T17:17:29.245420",
     "status": "completed"
    },
    "tags": []
   },
   "outputs": [
    {
     "name": "stdout",
     "output_type": "stream",
     "text": [
      "Printing Submission CSV\n"
     ]
    }
   ],
   "source": [
    "#make predictions with model and save output data\n",
    "predictions = model.predict(X_test)\n",
    "\n",
    "submission = pd.DataFrame({'PassengerId': test_df['PassengerId'], 'Survived': predictions})\n",
    "\n",
    "print('Printing Submission CSV')\n",
    "\n",
    "submission.to_csv('./submission.csv', index=False)\n"
   ]
  },
  {
   "cell_type": "markdown",
   "metadata": {
    "papermill": {
     "duration": 0.049761,
     "end_time": "2020-11-04T17:17:29.658225",
     "exception": false,
     "start_time": "2020-11-04T17:17:29.608464",
     "status": "completed"
    },
    "tags": []
   },
   "source": [
    "# Final score with test.csv outputs 0.79665\n",
    "\n",
    "- Teams with this score start appearing at position 785. With 18,058 total teams, that means this analysis and model results in the **top 4.3%** of all submissions! \n",
    "\n",
    "- Success aside, there is still much room to improve my skillset with feature engineering, which is the most likely candidate holding the model back from better predictions."
   ]
  },
  {
   "cell_type": "code",
   "execution_count": null,
   "metadata": {
    "papermill": {
     "duration": 0.050154,
     "end_time": "2020-11-04T17:17:29.758952",
     "exception": false,
     "start_time": "2020-11-04T17:17:29.708798",
     "status": "completed"
    },
    "tags": []
   },
   "outputs": [],
   "source": []
  }
 ],
 "metadata": {
  "kernelspec": {
   "display_name": "Python 3",
   "language": "python",
   "name": "python3"
  },
  "language_info": {
   "codemirror_mode": {
    "name": "ipython",
    "version": 3
   },
   "file_extension": ".py",
   "mimetype": "text/x-python",
   "name": "python",
   "nbconvert_exporter": "python",
   "pygments_lexer": "ipython3",
   "version": "3.7.6"
  },
  "papermill": {
   "duration": 18.193513,
   "end_time": "2020-11-04T17:17:29.916437",
   "environment_variables": {},
   "exception": null,
   "input_path": "__notebook__.ipynb",
   "output_path": "__notebook__.ipynb",
   "parameters": {},
   "start_time": "2020-11-04T17:17:11.722924",
   "version": "2.1.0"
  }
 },
 "nbformat": 4,
 "nbformat_minor": 4
}
